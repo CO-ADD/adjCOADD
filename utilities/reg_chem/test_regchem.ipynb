{
 "cells": [
  {
   "cell_type": "code",
   "execution_count": 1,
   "metadata": {},
   "outputs": [],
   "source": [
    "import os, sys\n",
    "import datetime\n",
    "import csv\n",
    "import pandas as pd\n",
    "import numpy as np\n",
    "import argparse\n",
    "\n",
    "from zChem.zMolStandardize import SmiStandardizer_DB\n",
    "from rdkit import Chem\n",
    "\n",
    "from tqdm import tqdm\n",
    "# from zUtils import zData\n",
    "\n",
    "import django\n"
   ]
  },
  {
   "cell_type": "code",
   "execution_count": 26,
   "metadata": {},
   "outputs": [],
   "source": [
    "AtomType = {}\n",
    "AtomType['MetalTrans'] = [\n",
    "        'Sc','Ti','V' ,'Cr','Mn','Fe','Co','Ni','Cu','Zn',\n",
    "        'Y' ,'Zr','Nb','Mo','Tc','Ru','Rh','Pd','Ag','Cd',\n",
    "        'Hf','Ta','W' ,'Re','Os','Ir','Pt','Au','Hg',\n",
    "        'Rf','Db','Sg','Bh','Hs','Mt','Ds','Rg','Cn']\n",
    "AtomType['MetalLanAct'] = [\n",
    "        'La','Ce','Pr','Nd','Pm','Sm','Eu','Gd','Tb','Dy','Ho','Er','Tm','Yb','Lu',\n",
    "        'Ac','Th','Pa','U', 'Np','Pu','Am','Cm','Bk','Cf','Es','Fm','Md','No','Lr']    \n",
    "AtomType['Metal']      = ['Al', 'Ga','Ge', 'In','Sn','Sb', 'Tl','Pb','Bi','Po']\n",
    "AtomType['Alkali']      = ['Li','Na','K','Rb','Cs','Fr']\n",
    "AtomType['AlkaliEarth'] = ['Be','Mg','Ca','Sr','Ba','Ra']\n",
    "AtomType['Halogen']     = ['F', 'Cl','Br','I']\n",
    "AtomType['Metalloids']  = ['B','Si','As','Te','At']\n",
    "AtomType['Organic']     = ['C','N','O','P','S','Se']\n",
    "\n",
    "AtomType_Order = ['MetalTrans','MetalLanAct','Metal','Alkali','AlkaliEarth','Halogen','Metalloids','Organic']\n",
    "\n",
    "#-----------------------------------------------------------------------------\n",
    "def list_mftype(mf,unique=True):\n",
    "#-----------------------------------------------------------------------------\n",
    "    qrymf = mf\n",
    "    mfType = {}\n",
    "    metalLst = {}\n",
    "    for atype in AtomType_Order:\n",
    "        for qatm in AtomType[atype]:\n",
    "            if qatm in qrymf:\n",
    "                mfType[atype] = 1\n",
    "                if 'Metal' in atype:\n",
    "                    metalLst[qatm] = 1\n",
    "                qrymf = qrymf.replace(qatm,\"\")\n",
    "    return(mfType,metalLst)\n",
    "\n",
    "#-----------------------------------------------------------------------------\n",
    "def list_moltype(mol,unique=True):\n",
    "#-----------------------------------------------------------------------------\n",
    "    molType = {}\n",
    "    metalLst = {}\n",
    "    if mol:\n",
    "        for atom in mol.GetAtoms():\n",
    "            atSym = atom.GetSymbol()\n",
    "            for atype in AtomType:\n",
    "                if atSym in AtomType[atype]:\n",
    "                    molType[atype] = 1\n",
    "                    if 'Metal' in atype or 'Alkali' in atype:\n",
    "                        metalLst[atSym] = 1\n",
    "    return(molType,metalLst)\n",
    "\n",
    "#-----------------------------------------------------------------------------\n",
    "def check_structure_type(qSmi,qMF,sep=';'):\n",
    "#-----------------------------------------------------------------------------\n",
    "    _valid = 0\n",
    "    retMolType = None\n",
    "    retMetal = None\n",
    "    if qSmi:\n",
    "        try:\n",
    "            _mol = Chem.MolFromSmiles(qSmi)\n",
    "            _valid = 1\n",
    "        except:\n",
    "            _mol = None\n",
    "            _valid = 0\n",
    "\n",
    "    if _valid>0:\n",
    "        _MolType,_Metal = list_moltype(_mol)\n",
    "        if len(_MolType)>0:\n",
    "            _molList = list(_MolType)\n",
    "            _molList.sort()\n",
    "            retMolType = sep.join(_molList)\n",
    "        if len(_Metal)>0:\n",
    "            _metList = list(_Metal)\n",
    "            _metList.sort()\n",
    "            retMetal = sep.join(_metList)\n",
    "    else:\n",
    "        if qMF:\n",
    "            _MolType,_Metal = list_mftype(qMF)\n",
    "            if len(_MolType)>0:\n",
    "                _molList = list(_MolType)\n",
    "                _molList.sort()\n",
    "                retMolType = f\"{sep.join(_MolType)}; #mf\"\n",
    "            if len(_Metal)>0:\n",
    "                _metList = list(_Metal)\n",
    "                _metList.sort()\n",
    "                retMetal = f\"{sep.join(_metList)}; #mf\"\n",
    "    return(retMolType,retMetal)\n",
    "\n",
    "# ==========================================================================\n"
   ]
  },
  {
   "cell_type": "code",
   "execution_count": 27,
   "metadata": {},
   "outputs": [
    {
     "data": {
      "text/plain": [
       "('Halogen;Metalloids;Organic; #mf', 'B; #mf')"
      ]
     },
     "execution_count": 27,
     "metadata": {},
     "output_type": "execute_result"
    }
   ],
   "source": [
    "check_structure_type(None,'CxBO2Br2Hx')"
   ]
  },
  {
   "cell_type": "code",
   "execution_count": null,
   "metadata": {},
   "outputs": [],
   "source": []
  }
 ],
 "metadata": {
  "kernelspec": {
   "display_name": "zPython",
   "language": "python",
   "name": "python3"
  },
  "language_info": {
   "codemirror_mode": {
    "name": "ipython",
    "version": 3
   },
   "file_extension": ".py",
   "mimetype": "text/x-python",
   "name": "python",
   "nbconvert_exporter": "python",
   "pygments_lexer": "ipython3",
   "version": "3.8.18"
  }
 },
 "nbformat": 4,
 "nbformat_minor": 2
}
